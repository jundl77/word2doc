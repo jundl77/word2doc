{
 "cells": [
  {
   "cell_type": "code",
   "execution_count": 2,
   "metadata": {},
   "outputs": [
    {
     "name": "stderr",
     "output_type": "stream",
     "text": [
      "Using TensorFlow backend.\n"
     ]
    }
   ],
   "source": [
    "import numpy as np\n",
    "np.random.seed(13)\n",
    "\n",
    "import random\n",
    "\n",
    "import keras\n",
    "from keras.models import Sequential, Model\n",
    "from keras.layers import Embedding, Reshape, Activation, Input, Dense, Flatten\n",
    "from keras.layers.merge import Dot\n",
    "from keras.utils import np_utils\n",
    "from keras.utils.data_utils import get_file\n",
    "from keras.preprocessing.text import Tokenizer\n",
    "from keras.preprocessing.sequence import skipgrams\n",
    "from tqdm import tqdm\n",
    "\n",
    "import gensim"
   ]
  },
  {
   "cell_type": "code",
   "execution_count": 3,
   "metadata": {},
   "outputs": [],
   "source": [
    "def load_data(path):\n",
    "    print('Load ' + path)\n",
    "    \n",
    "    data = np.load(path)\n",
    "\n",
    "    labels = list()\n",
    "    titles = dict()\n",
    "    embeddings = list()\n",
    "    context = list()\n",
    "    for data_dict in data:\n",
    "\n",
    "            doc_id = data_dict['doc_index']\n",
    "            titles[doc_id] = data_dict['doc_title']\n",
    "            ctx = data_dict['doc_window']\n",
    "\n",
    "            e = data_dict['pivot_embeddings']\n",
    "\n",
    "            for emb in e:\n",
    "                labels.append(doc_id)\n",
    "                embeddings.append(emb)\n",
    "                \n",
    "                neg_ctx = negative_samples(data, ctx, 1)\n",
    "                context.append(neg_ctx)\n",
    "\n",
    "    return labels, embeddings, context, titles\n",
    "\n",
    "\n",
    "def negative_samples(data, doc_context, num):\n",
    "    negative_samples = []\n",
    "    \n",
    "    while len(negative_samples) < num:\n",
    "        sample = random.choice(data)\n",
    "    \n",
    "        if sample['doc_index'] not in doc_context:\n",
    "            negative_samples.append(sample['pivot_embeddings'][0])\n",
    "    \n",
    "    return negative_samples\n",
    "    \n",
    "\n",
    "def shuffle_data(x, y, c):\n",
    "    shuffled = list(zip(x, y, c))\n",
    "    random.shuffle(shuffled)\n",
    "\n",
    "    x, y, c = zip(*shuffled)\n",
    "\n",
    "    return x, y, c"
   ]
  },
  {
   "cell_type": "code",
   "execution_count": 17,
   "metadata": {},
   "outputs": [
    {
     "name": "stdout",
     "output_type": "stream",
     "text": [
      "Load /Users/julianbrendl/Projects/bachelor-thesis/word2doc/data/word2doc/1-wpp.npy\n"
     ]
    }
   ],
   "source": [
    "labels, embeddings, context, titles = load_data('/Users/julianbrendl/Projects/bachelor-thesis/word2doc/data/word2doc/1-wpp.npy')"
   ]
  },
  {
   "cell_type": "code",
   "execution_count": 18,
   "metadata": {},
   "outputs": [],
   "source": [
    "embeddings, labels, context = shuffle_data(embeddings, labels, context)"
   ]
  },
  {
   "cell_type": "code",
   "execution_count": 35,
   "metadata": {},
   "outputs": [
    {
     "data": {
      "text/plain": [
       "5316192"
      ]
     },
     "execution_count": 35,
     "metadata": {},
     "output_type": "execute_result"
    }
   ],
   "source": [
    "max(labels)"
   ]
  },
  {
   "cell_type": "code",
   "execution_count": 6,
   "metadata": {},
   "outputs": [],
   "source": [
    "model = Sequential()\n",
    "\n",
    "# Hidden layer 1\n",
    "model.add(Dense(300, input_dim=4096))\n",
    "model.add(Activation('sigmoid'))\n",
    "\n",
    "# Output layer\n",
    "model.add(Dense(5316192))\n",
    "model.add(Activation('softmax'))\n",
    "\n",
    "model.compile(loss='sparse_categorical_crossentropy', optimizer='adam', metrics=['accuracy'])"
   ]
  },
  {
   "cell_type": "code",
   "execution_count": 174,
   "metadata": {},
   "outputs": [
    {
     "name": "stdout",
     "output_type": "stream",
     "text": [
      "4096\n",
      "4034639.0\n"
     ]
    }
   ],
   "source": [
    "for elem in list(zip(embeddings, context, labels)):\n",
    "    x = np.array(elem[0], dtype='float32')\n",
    "    c = np.array(elem[1], dtype='float32')\n",
    "    y = np.array(elem[2], dtype='float32')\n",
    "    print(len(x))\n",
    "    print(y)\n",
    "    \n",
    "    break"
   ]
  },
  {
   "cell_type": "code",
   "execution_count": 21,
   "metadata": {},
   "outputs": [],
   "source": [
    "embeddings = np.asarray(embeddings)\n",
    "labels = np.array(labels)"
   ]
  },
  {
   "cell_type": "code",
   "execution_count": null,
   "metadata": {},
   "outputs": [
    {
     "name": "stdout",
     "output_type": "stream",
     "text": [
      "Epoch 1/1\n"
     ]
    }
   ],
   "source": [
    "# Train model\n",
    "model.fit(embeddings, labels,\n",
    "          epochs=1,\n",
    "          batch_size=8,\n",
    "          verbose=2)\n",
    "\n",
    "print(loss)"
   ]
  },
  {
   "cell_type": "code",
   "execution_count": null,
   "metadata": {},
   "outputs": [],
   "source": []
  },
  {
   "cell_type": "code",
   "execution_count": null,
   "metadata": {},
   "outputs": [],
   "source": []
  }
 ],
 "metadata": {
  "kernelspec": {
   "display_name": "Python 3",
   "language": "python",
   "name": "python3"
  },
  "language_info": {
   "codemirror_mode": {
    "name": "ipython",
    "version": 3
   },
   "file_extension": ".py",
   "mimetype": "text/x-python",
   "name": "python",
   "nbconvert_exporter": "python",
   "pygments_lexer": "ipython3",
   "version": "3.6.3"
  }
 },
 "nbformat": 4,
 "nbformat_minor": 2
}
